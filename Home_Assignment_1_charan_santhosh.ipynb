{
  "cells": [
    {
      "cell_type": "markdown",
      "metadata": {
        "id": "view-in-github",
        "colab_type": "text"
      },
      "source": [
        "<a href=\"https://colab.research.google.com/github/charansanthosh1675/home_assignment1_neural-network/blob/main/Home_Assignment_1_charan_santhosh.ipynb\" target=\"_parent\"><img src=\"https://colab.research.google.com/assets/colab-badge.svg\" alt=\"Open In Colab\"/></a>"
      ]
    },
    {
      "cell_type": "code",
      "source": [
        "\n",
        "# CS5720 - Home Assignment 1\n",
        "# name: gudiseva charan santhosh\n",
        "# student id : 700776700\n",
        "# University of Central Missouri\n",
        "\n",
        "\n",
        "# -----------------------------\n",
        "# PART 1: Tensor Manipulations\n",
        "# -----------------------------\n",
        "import tensorflow as tf\n",
        "import matplotlib.pyplot as plt\n",
        "from tensorflow.keras.losses import MeanSquaredError, CategoricalCrossentropy\n",
        "from tensorflow.keras.models import Sequential\n",
        "from tensorflow.keras.layers import Dense, Flatten\n",
        "from tensorflow.keras.callbacks import TensorBoard\n",
        "import datetime\n",
        "\n",
        "# 1. Create random tensor of shape (4, 6)\n",
        "tensor = tf.random.uniform((4, 6))\n",
        "print(\"Original Tensor:\\n\", tensor)\n",
        "\n",
        "# 2. Find rank and shape\n",
        "print(\"Rank:\", tf.rank(tensor).numpy())\n",
        "print(\"Shape:\", tensor.shape)\n",
        "\n",
        "# 3. Reshape to (2, 3, 4)\n",
        "reshaped_tensor = tf.reshape(tensor, (2, 3, 4))\n",
        "print(\"Reshaped Tensor:\\n\", reshaped_tensor)\n",
        "\n",
        "# 4. Transpose to (3, 2, 4)\n",
        "transposed_tensor = tf.transpose(reshaped_tensor, perm=[1, 0, 2])\n",
        "print(\"Transposed Tensor:\\n\", transposed_tensor)\n",
        "\n",
        "# 5. Broadcast and add small tensor (1, 4)\n",
        "small_tensor = tf.constant([[1.0, 2.0, 3.0, 4.0]])\n",
        "added_tensor = transposed_tensor + small_tensor\n",
        "print(\"After Broadcasting:\\n\", added_tensor)\n",
        "\n",
        "print(\"Broadcasting means TensorFlow stretches the small tensor to match the big one and adds them.\")\n",
        "\n"
      ],
      "metadata": {
        "id": "DqUgB19ZVlwt",
        "outputId": "ed93b607-eb64-4f07-ecdf-1080d5acc652",
        "colab": {
          "base_uri": "https://localhost:8080/"
        }
      },
      "execution_count": null,
      "outputs": [
        {
          "output_type": "stream",
          "name": "stdout",
          "text": [
            "Original Tensor:\n",
            " tf.Tensor(\n",
            "[[3.82393599e-01 1.83514357e-01 8.81042361e-01 7.63254881e-01\n",
            "  8.17027569e-01 1.90705061e-01]\n",
            " [5.10960460e-01 7.47601986e-01 4.74753618e-01 4.69796419e-01\n",
            "  3.43517184e-01 3.65156531e-01]\n",
            " [8.65499973e-01 2.53416777e-01 7.74809241e-01 6.26621008e-01\n",
            "  3.82787704e-01 1.17446065e-01]\n",
            " [5.49882054e-01 3.21177483e-01 4.84195948e-01 6.06150985e-01\n",
            "  1.87772632e-01 1.41263008e-04]], shape=(4, 6), dtype=float32)\n",
            "Rank: 2\n",
            "Shape: (4, 6)\n",
            "Reshaped Tensor:\n",
            " tf.Tensor(\n",
            "[[[3.82393599e-01 1.83514357e-01 8.81042361e-01 7.63254881e-01]\n",
            "  [8.17027569e-01 1.90705061e-01 5.10960460e-01 7.47601986e-01]\n",
            "  [4.74753618e-01 4.69796419e-01 3.43517184e-01 3.65156531e-01]]\n",
            "\n",
            " [[8.65499973e-01 2.53416777e-01 7.74809241e-01 6.26621008e-01]\n",
            "  [3.82787704e-01 1.17446065e-01 5.49882054e-01 3.21177483e-01]\n",
            "  [4.84195948e-01 6.06150985e-01 1.87772632e-01 1.41263008e-04]]], shape=(2, 3, 4), dtype=float32)\n",
            "Transposed Tensor:\n",
            " tf.Tensor(\n",
            "[[[3.82393599e-01 1.83514357e-01 8.81042361e-01 7.63254881e-01]\n",
            "  [8.65499973e-01 2.53416777e-01 7.74809241e-01 6.26621008e-01]]\n",
            "\n",
            " [[8.17027569e-01 1.90705061e-01 5.10960460e-01 7.47601986e-01]\n",
            "  [3.82787704e-01 1.17446065e-01 5.49882054e-01 3.21177483e-01]]\n",
            "\n",
            " [[4.74753618e-01 4.69796419e-01 3.43517184e-01 3.65156531e-01]\n",
            "  [4.84195948e-01 6.06150985e-01 1.87772632e-01 1.41263008e-04]]], shape=(3, 2, 4), dtype=float32)\n",
            "After Broadcasting:\n",
            " tf.Tensor(\n",
            "[[[1.3823936 2.1835144 3.8810425 4.763255 ]\n",
            "  [1.8655    2.2534168 3.7748094 4.6266212]]\n",
            "\n",
            " [[1.8170276 2.190705  3.5109606 4.747602 ]\n",
            "  [1.3827877 2.117446  3.549882  4.3211775]]\n",
            "\n",
            " [[1.4747536 2.4697964 3.3435173 4.3651567]\n",
            "  [1.484196  2.606151  3.1877728 4.000141 ]]], shape=(3, 2, 4), dtype=float32)\n",
            "Broadcasting means TensorFlow stretches the small tensor to match the big one and adds them.\n"
          ]
        }
      ]
    },
    {
      "cell_type": "code",
      "source": [
        "#TASK 2\n",
        "\n",
        "\n",
        "# ----------------------------------------\n",
        "# PART 2: Loss Functions and Visualization\n",
        "# ----------------------------------------\n",
        "\n",
        "# True values\n",
        "y_true = tf.constant([[1, 0, 0], [0, 1, 0], [0, 0, 1]], dtype=tf.float32)\n",
        "\n",
        "# Predictions\n",
        "y_pred_1 = tf.constant([[0.8, 0.1, 0.1], [0.1, 0.7, 0.2], [0.2, 0.2, 0.6]], dtype=tf.float32)\n",
        "y_pred_2 = tf.constant([[0.6, 0.2, 0.2], [0.3, 0.4, 0.3], [0.3, 0.1, 0.6]], dtype=tf.float32)\n",
        "\n",
        "# Loss functions\n",
        "mse = MeanSquaredError()\n",
        "cce = CategoricalCrossentropy()\n",
        "\n",
        "# Calculate losses\n",
        "mse_1 = mse(y_true, y_pred_1).numpy()\n",
        "cce_1 = cce(y_true, y_pred_1).numpy()\n",
        "mse_2 = mse(y_true, y_pred_2).numpy()\n",
        "cce_2 = cce(y_true, y_pred_2).numpy()\n",
        "\n",
        "# Print results\n",
        "print(\"Prediction 1 - MSE:\", mse_1, \", CCE:\", cce_1)\n",
        "print(\"Prediction 2 - MSE:\", mse_2, \", CCE:\", cce_2)\n",
        "\n",
        "# Plot\n",
        "labels = ['MSE_1', 'CCE_1', 'MSE_2', 'CCE_2']\n",
        "losses = [mse_1, cce_1, mse_2, cce_2]\n",
        "plt.bar(labels, losses)\n",
        "plt.title(\"Loss Function Comparison\")\n",
        "plt.ylabel(\"Loss Value\")\n",
        "plt.show()\n"
      ],
      "metadata": {
        "id": "SME0XjItV9mA",
        "outputId": "ef749ea0-1b7e-4b16-d433-e454c3dbaf3e",
        "colab": {
          "base_uri": "https://localhost:8080/",
          "height": 487
        }
      },
      "execution_count": null,
      "outputs": [
        {
          "output_type": "stream",
          "name": "stdout",
          "text": [
            "Prediction 1 - MSE: 0.04888888 , CCE: 0.36354804\n",
            "Prediction 2 - MSE: 0.115555555 , CCE: 0.64598066\n"
          ]
        },
        {
          "output_type": "display_data",
          "data": {
            "text/plain": [
              "<Figure size 640x480 with 1 Axes>"
            ],
            "image/png": "[encoded data removed]"
          },
          "metadata": {}
        }
      ]
    },
    {
      "cell_type": "code",
      "source": [
        "#TASK 3\n",
        "\n",
        "\n",
        "# -----------------------------------\n",
        "# PART 3: Neural Network + TensorBoard\n",
        "# -----------------------------------\n",
        "\n",
        "# Load MNIST\n",
        "(x_train, y_train), (x_test, y_test) = tf.keras.datasets.mnist.load_data()\n",
        "x_train, x_test = x_train / 255.0, x_test / 255.0\n",
        "\n",
        "# Build model\n",
        "model = Sequential([\n",
        "    Flatten(input_shape=(28, 28)),\n",
        "    Dense(128, activation='relu'),\n",
        "    Dense(10, activation='softmax')\n",
        "])\n",
        "\n",
        "# Compile\n",
        "model.compile(optimizer='adam',\n",
        "              loss='sparse_categorical_crossentropy',\n",
        "              metrics=['accuracy'])\n",
        "\n",
        "# TensorBoard logging\n",
        "log_dir = \"logs/fit/\" + datetime.datetime.now().strftime(\"%Y%m%d-%H%M%S\")\n",
        "tensorboard_callback = TensorBoard(log_dir=log_dir, histogram_freq=1)\n",
        "\n",
        "# Train\n",
        "model.fit(x_train, y_train, epochs=5,\n",
        "          validation_data=(x_test, y_test),\n",
        "          callbacks=[tensorboard_callback])\n",
        "\n",
        "\n",
        "\n",
        "\n",
        "#TASK 4\n",
        "\n",
        "\n",
        "\n",
        "# ---------------------------------\n",
        "# PART 4: Simple Answers to Questions\n",
        "# ---------------------------------\n",
        "#  nQ1: What do you observe in accuracy curves?\n",
        "#  A1: Training accuracy increases. Validation accuracy may stop improving or get worse if overfitting happens.\n",
        "\n",
        "#  nQ2: How does TensorBoard help?\n",
        "#  A2: It shows graphs of accuracy/loss. You can spot overfitting if training improves but validation doesn't.\n",
        "\n",
        "#  nQ3: What happens if we increase epochs?\n",
        "#  A3: The model may memorize training data too much (overfitting) and not work well on new data.\n"
      ],
      "metadata": {
        "id": "3wfW-iy0WEjG",
        "outputId": "3107f8f7-6336-4e6a-ac12-d76507e6bb95",
        "colab": {
          "base_uri": "https://localhost:8080/"
        }
      },
      "execution_count": null,
      "outputs": [
        {
          "output_type": "stream",
          "name": "stderr",
          "text": [
            "/usr/local/lib/python3.11/dist-packages/keras/src/layers/reshaping/flatten.py:37: UserWarning: Do not pass an `input_shape`/`input_dim` argument to a layer. When using Sequential models, prefer using an `Input(shape)` object as the first layer in the model instead.\n",
            "  super().__init__(**kwargs)\n"
          ]
        },
        {
          "output_type": "stream",
          "name": "stdout",
          "text": [
            "Epoch 1/5\n",
            "\u001b[1m1875/1875\u001b[0m \u001b[32m━━━━━━━━━━━━━━━━━━━━\u001b[0m\u001b[37m\u001b[0m \u001b[1m11s\u001b[0m 5ms/step - accuracy: 0.8784 - loss: 0.4276 - val_accuracy: 0.9586 - val_loss: 0.1453\n",
            "Epoch 2/5\n",
            "\u001b[1m1875/1875\u001b[0m \u001b[32m━━━━━━━━━━━━━━━━━━━━\u001b[0m\u001b[37m\u001b[0m \u001b[1m10s\u001b[0m 5ms/step - accuracy: 0.9644 - loss: 0.1224 - val_accuracy: 0.9657 - val_loss: 0.1069\n",
            "Epoch 3/5\n",
            "\u001b[1m1875/1875\u001b[0m \u001b[32m━━━━━━━━━━━━━━━━━━━━\u001b[0m\u001b[37m\u001b[0m \u001b[1m8s\u001b[0m 4ms/step - accuracy: 0.9776 - loss: 0.0746 - val_accuracy: 0.9738 - val_loss: 0.0861\n",
            "Epoch 4/5\n",
            "\u001b[1m1875/1875\u001b[0m \u001b[32m━━━━━━━━━━━━━━━━━━━━\u001b[0m\u001b[37m\u001b[0m \u001b[1m10s\u001b[0m 4ms/step - accuracy: 0.9842 - loss: 0.0547 - val_accuracy: 0.9749 - val_loss: 0.0811\n",
            "Epoch 5/5\n",
            "\u001b[1m1875/1875\u001b[0m \u001b[32m━━━━━━━━━━━━━━━━━━━━\u001b[0m\u001b[37m\u001b[0m \u001b[1m11s\u001b[0m 5ms/step - accuracy: 0.9864 - loss: 0.0440 - val_accuracy: 0.9764 - val_loss: 0.0776\n"
          ]
        },
        {
          "output_type": "execute_result",
          "data": {
            "text/plain": [
              "<keras.src.callbacks.history.History at 0x7b17611424d0>"
            ]
          },
          "metadata": {},
          "execution_count": 11
        }
      ]
    }
  ],
  "metadata": {
    "colab": {
      "provenance": [],
      "include_colab_link": true
    },
    "kernelspec": {
      "display_name": "Python 3",
      "name": "python3"
    }
  },
  "nbformat": 4,
  "nbformat_minor": 0
}